{
 "cells": [
  {
   "cell_type": "code",
   "execution_count": 5,
   "metadata": {},
   "outputs": [],
   "source": [
    "import tensorflow as tf\n",
    "from tensorflow.keras.layers import Conv2D, Activation, Dense, Dropout, MaxPooling2D, Flatten\n",
    "from tensorflow.keras.models import Sequential\n",
    "from tensorflow.keras.preprocessing.image import ImageDataGenerator\n",
    "from tensorflow.keras.optimizers import Adam\n",
    "\n",
    "import numpy as np\n",
    "import cv2 as cv\n",
    "import matplotlib.pyplot as plt\n",
    "%matplotlib inline\n",
    "\n",
    "import os"
   ]
  },
  {
   "cell_type": "code",
   "execution_count": 4,
   "metadata": {},
   "outputs": [
    {
     "name": "stdout",
     "output_type": "stream",
     "text": [
      "Found 44902 images belonging to 52 classes.\n",
      "Found 7072 images belonging to 52 classes.\n",
      "Found 832 images belonging to 52 classes.\n"
     ]
    }
   ],
   "source": [
    "#Image augmentation prin ImageDataGenerator pt datele de antrenament\n",
    "\n",
    "generator_antrenare = ImageDataGenerator(rescale= 1.0/255, \n",
    "                                         rotation_range = 45,\n",
    "                                         brightness_range= [0.5, 1.5],\n",
    "                                         zoom_range=0.5)\n",
    "\n",
    "# Generator de date sub forma de imagini cu pixeli avand valori intre 1 si 0\n",
    "\n",
    "generator = ImageDataGenerator(rescale = 1.0/255)\n",
    "\n",
    "cale = os.getcwd()\n",
    "cale_antrenare = os.path.join(cale,'data_doar_litere\\\\antrenare')\n",
    "cale_testare = os.path.join(cale,'data_doar_litere\\\\testare')\n",
    "cale_validare = os.path.join(cale,'data_doar_litere\\\\validare')\n",
    "\n",
    "antrenare = generator_antrenare.flow_from_directory(cale_antrenare,\n",
    "                                           target_size = (28,28),\n",
    "                                           color_mode= 'grayscale',\n",
    "                                           class_mode='categorical',\n",
    "                                           shuffle = True,\n",
    "                                           batch_size = 64)\n",
    "\n",
    "testare = generator.flow_from_directory(cale_testare,\n",
    "                                         target_size = (28,28),\n",
    "                                         color_mode= 'grayscale',\n",
    "                                         class_mode='categorical',\n",
    "                                         shuffle = True,\n",
    "                                         batch_size =64)\n",
    "\n",
    "validare = generator.flow_from_directory(cale_validare,\n",
    "                                          target_size = (28,28),\n",
    "                                          color_mode= 'grayscale',\n",
    "                                          class_mode='categorical',\n",
    "                                          shuffle = True,\n",
    "                                          batch_size =64)"
   ]
  },
  {
   "cell_type": "code",
   "execution_count": 17,
   "metadata": {},
   "outputs": [],
   "source": [
    "model = Sequential()\n",
    "\n",
    "model.add(Conv2D(16, kernel_size = (5,5),\n",
    "                input_shape=(28,28,1),\n",
    "                data_format='channels_last',\n",
    "                padding = 'same',\n",
    "                dilation_rate = (1,1),\n",
    "                activation = 'relu'))\n",
    "\n",
    "model.add(MaxPooling2D(pool_size = (2,2)))\n",
    "\n",
    "model.add(Conv2D(36,kernel_size=(5,5), \n",
    "                 data_format='channels_last', \n",
    "                 padding = 'same',\n",
    "                 dilation_rate = (1,1),\n",
    "                 activation ='relu',))\n",
    "\n",
    "model.add(MaxPooling2D(pool_size=(2,2)))\n",
    "\n",
    "#Flatten layer transforma 4-dim output din conv layer in 2D ptr fully-connected layer\n",
    "model.add(Flatten())\n",
    "\n",
    "model.add(Dense(576,activation='relu'))\n",
    "model.add(Dropout(0.2))\n",
    "model.add(Dense(52,activation='softmax'))"
   ]
  },
  {
   "cell_type": "code",
   "execution_count": 19,
   "metadata": {},
   "outputs": [
    {
     "name": "stdout",
     "output_type": "stream",
     "text": [
      "Epoch 1/20\n",
      "702/702 [==============================] - 63s 90ms/step - loss: 0.0181 - accuracy: 0.9928 - val_loss: 0.0171 - val_accuracy: 0.9927\n",
      "Epoch 2/20\n",
      "702/702 [==============================] - 61s 87ms/step - loss: 0.0179 - accuracy: 0.9929 - val_loss: 0.0161 - val_accuracy: 0.9933\n",
      "Epoch 3/20\n",
      "702/702 [==============================] - 60s 85ms/step - loss: 0.0178 - accuracy: 0.9929 - val_loss: 0.0150 - val_accuracy: 0.9935\n",
      "Epoch 4/20\n",
      "702/702 [==============================] - 60s 86ms/step - loss: 0.0178 - accuracy: 0.9929 - val_loss: 0.0148 - val_accuracy: 0.9934\n",
      "Epoch 5/20\n",
      "702/702 [==============================] - 61s 87ms/step - loss: 0.0175 - accuracy: 0.9930 - val_loss: 0.0152 - val_accuracy: 0.9937\n",
      "Epoch 6/20\n",
      "702/702 [==============================] - 61s 87ms/step - loss: 0.0175 - accuracy: 0.9931 - val_loss: 0.0146 - val_accuracy: 0.9938\n",
      "Epoch 7/20\n",
      "702/702 [==============================] - 61s 87ms/step - loss: 0.0173 - accuracy: 0.9931 - val_loss: 0.0152 - val_accuracy: 0.9937\n",
      "Epoch 8/20\n",
      "702/702 [==============================] - 62s 88ms/step - loss: 0.0175 - accuracy: 0.9930 - val_loss: 0.0145 - val_accuracy: 0.9936\n",
      "Epoch 9/20\n",
      "702/702 [==============================] - 62s 88ms/step - loss: 0.0172 - accuracy: 0.9931 - val_loss: 0.0156 - val_accuracy: 0.9936\n",
      "Epoch 10/20\n",
      "702/702 [==============================] - 62s 89ms/step - loss: 0.0172 - accuracy: 0.9931 - val_loss: 0.0143 - val_accuracy: 0.9936\n",
      "Epoch 11/20\n",
      "702/702 [==============================] - 63s 89ms/step - loss: 0.0171 - accuracy: 0.9932 - val_loss: 0.0158 - val_accuracy: 0.9933\n",
      "Epoch 12/20\n",
      "702/702 [==============================] - 62s 89ms/step - loss: 0.0170 - accuracy: 0.9931 - val_loss: 0.0144 - val_accuracy: 0.9937\n",
      "Epoch 13/20\n",
      "702/702 [==============================] - 63s 90ms/step - loss: 0.0168 - accuracy: 0.9932 - val_loss: 0.0145 - val_accuracy: 0.9932\n",
      "Epoch 14/20\n",
      "702/702 [==============================] - 63s 90ms/step - loss: 0.0168 - accuracy: 0.9932 - val_loss: 0.0143 - val_accuracy: 0.9940\n",
      "Epoch 15/20\n",
      "702/702 [==============================] - 64s 91ms/step - loss: 0.0167 - accuracy: 0.9932 - val_loss: 0.0141 - val_accuracy: 0.9940\n",
      "Epoch 16/20\n",
      "702/702 [==============================] - 61s 87ms/step - loss: 0.0166 - accuracy: 0.9933 - val_loss: 0.0153 - val_accuracy: 0.9933\n",
      "Epoch 17/20\n",
      "702/702 [==============================] - 61s 87ms/step - loss: 0.0168 - accuracy: 0.9932 - val_loss: 0.0143 - val_accuracy: 0.9936\n",
      "Epoch 18/20\n",
      "702/702 [==============================] - 61s 88ms/step - loss: 0.0165 - accuracy: 0.9933 - val_loss: 0.0143 - val_accuracy: 0.9938\n",
      "Epoch 19/20\n",
      "702/702 [==============================] - 62s 88ms/step - loss: 0.0165 - accuracy: 0.9933 - val_loss: 0.0143 - val_accuracy: 0.9938\n",
      "Epoch 20/20\n",
      "702/702 [==============================] - 62s 88ms/step - loss: 0.0165 - accuracy: 0.9934 - val_loss: 0.0152 - val_accuracy: 0.9938\n",
      "32/32 [==============================] - 1s 38ms/step - loss: 0.0147 - accuracy: 0.9943\n"
     ]
    },
    {
     "data": {
      "text/plain": [
       "[0.014741926846909337, 0.99425334]"
      ]
     },
     "execution_count": 19,
     "metadata": {},
     "output_type": "execute_result"
    }
   ],
   "source": [
    "#Compilare model pt multiclass classification problem cu sigmoid in loc de softmax\n",
    "\n",
    "adam = Adam(lr=1e-4)\n",
    "model.compile(optimizer= 'adam',\n",
    "              loss='binary_crossentropy',\n",
    "              metrics=['accuracy'])\n",
    "\n",
    "model.fit_generator(antrenare, epochs= 20, steps_per_epoch=len(antrenare) , validation_data= validare, validation_steps= 32)\n",
    "\n",
    "model.save('sigmoid_tf_576_doar_litere.h5')\n",
    "\n",
    "model.evaluate(testare, steps =32)"
   ]
  },
  {
   "cell_type": "code",
   "execution_count": null,
   "metadata": {},
   "outputs": [],
   "source": []
  }
 ],
 "metadata": {
  "kernelspec": {
   "display_name": "Python 3",
   "language": "python",
   "name": "python3"
  },
  "language_info": {
   "codemirror_mode": {
    "name": "ipython",
    "version": 3
   },
   "file_extension": ".py",
   "mimetype": "text/x-python",
   "name": "python",
   "nbconvert_exporter": "python",
   "pygments_lexer": "ipython3",
   "version": "3.7.5"
  }
 },
 "nbformat": 4,
 "nbformat_minor": 4
}
